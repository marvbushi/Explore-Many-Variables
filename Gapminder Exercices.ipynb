{
 "cells": [
  {
   "cell_type": "code",
   "execution_count": 21,
   "metadata": {},
   "outputs": [],
   "source": [
    "# load libraries\n",
    "library(ggplot2)\n",
    "library(dplyr)\n",
    "library(reshape2)"
   ]
  },
  {
   "cell_type": "code",
   "execution_count": 22,
   "metadata": {},
   "outputs": [],
   "source": [
    "# The Gapminder website contains over 500 data sets with information about\n",
    "# the world's population. Your task is to continue the investigation you did at the\n",
    "# end of Problem Set 4 or you can start fresh and choose a different\n",
    "# data set from Gapminder.\n",
    "\n",
    "# If you’re feeling adventurous or want to try some data munging see if you can\n",
    "# find a data set or scrape one from the web.\n",
    "\n",
    "# In your investigation, examine 3 or more variables and create 2-5 plots that make\n",
    "# use of the techniques from Lesson 5.\n",
    "\n",
    "# You can find a link to the Gapminder website in the Instructor Notes.\n",
    "\n",
    "# Once you've completed your investigation, create a post in the discussions that includes:\n",
    "#       1. the variable(s) you investigated, your observations, and any summary statistics\n",
    "#       2. snippets of code that created the plots\n",
    "#       3. links to the images of your plots\n",
    "\n",
    "# Copy and paste all of the code that you used for\n",
    "# your investigation, and submit it when you are ready."
   ]
  },
  {
   "cell_type": "raw",
   "metadata": {},
   "source": [
    "The questions we would like to answer are the following:\n",
    "\n",
    "How did Life Expectancy at Birth (LEB) and its distribution among countries evolve overall since the middle of the 20th century?\n",
    "What are the periods where it has changed the most?\n",
    "How did the evolution of LEB compare between countries of different wealth?"
   ]
  },
  {
   "cell_type": "code",
   "execution_count": 23,
   "metadata": {},
   "outputs": [],
   "source": [
    "# load data set\n",
    "df <- read.csv('life_expectancy_at_birth.csv', sep = ',')"
   ]
  },
  {
   "cell_type": "code",
   "execution_count": 24,
   "metadata": {},
   "outputs": [
    {
     "data": {
      "text/html": [
       "<table>\n",
       "<thead><tr><th scope=col>country</th><th scope=col>X1960</th><th scope=col>X1961</th><th scope=col>X1962</th><th scope=col>X1963</th><th scope=col>X1964</th><th scope=col>X1965</th><th scope=col>X1966</th><th scope=col>X1967</th><th scope=col>X1968</th><th scope=col>...</th><th scope=col>X2007</th><th scope=col>X2008</th><th scope=col>X2009</th><th scope=col>X2010</th><th scope=col>X2011</th><th scope=col>X2012</th><th scope=col>X2013</th><th scope=col>X2014</th><th scope=col>X2015</th><th scope=col>X2016</th></tr></thead>\n",
       "<tbody>\n",
       "\t<tr><td>Afghanistan        </td><td>32.3               </td><td>32.7               </td><td>33.2               </td><td>33.6               </td><td>34.1               </td><td>34.5               </td><td>34.9               </td><td>35.4               </td><td>35.8               </td><td>...                </td><td>59.7               </td><td>60.2               </td><td>60.8               </td><td>61.2               </td><td>61.7               </td><td>62.1               </td><td>62.5               </td><td>62.9               </td><td>63.3               </td><td>63.7               </td></tr>\n",
       "\t<tr><td>Albania            </td><td>62.3               </td><td>63.3               </td><td>64.2               </td><td>64.9               </td><td>65.5               </td><td>65.8               </td><td>66.1               </td><td>66.3               </td><td>66.5               </td><td>...                </td><td>75.7               </td><td>75.9               </td><td>76.3               </td><td>76.7               </td><td>77.0               </td><td>77.4               </td><td>77.7               </td><td>78.0               </td><td>78.2               </td><td>78.3               </td></tr>\n",
       "\t<tr><td>Algeria            </td><td>46.1               </td><td>46.6               </td><td>47.1               </td><td>47.5               </td><td>48.0               </td><td>48.4               </td><td>48.8               </td><td>49.2               </td><td>49.6               </td><td>...                </td><td>73.6               </td><td>74.0               </td><td>74.4               </td><td>74.7               </td><td>74.9               </td><td>75.2               </td><td>75.4               </td><td>75.6               </td><td>75.9               </td><td>76.1               </td></tr>\n",
       "\t<tr><td>Angola             </td><td>33.3               </td><td>33.6               </td><td>33.9               </td><td>34.3               </td><td>34.6               </td><td>35.0               </td><td>35.4               </td><td>35.8               </td><td>36.2               </td><td>...                </td><td>55.1               </td><td>56.2               </td><td>57.2               </td><td>58.2               </td><td>59.0               </td><td>59.8               </td><td>60.4               </td><td>60.9               </td><td>61.2               </td><td>61.5               </td></tr>\n",
       "\t<tr><td>Antigua and Barbuda</td><td>62.1               </td><td>62.6               </td><td>63.0               </td><td>63.4               </td><td>63.8               </td><td>64.1               </td><td>64.5               </td><td>64.9               </td><td>65.2               </td><td>...                </td><td>74.9               </td><td>75.1               </td><td>75.2               </td><td>75.4               </td><td>75.6               </td><td>75.7               </td><td>75.9               </td><td>76.0               </td><td>76.2               </td><td>76.4               </td></tr>\n",
       "\t<tr><td>Argentina          </td><td>65.0               </td><td>65.1               </td><td>65.2               </td><td>65.3               </td><td>65.4               </td><td>65.5               </td><td>65.6               </td><td>65.8               </td><td>66.0               </td><td>...                </td><td>75.1               </td><td>75.3               </td><td>75.4               </td><td>75.6               </td><td>75.8               </td><td>75.9               </td><td>76.1               </td><td>76.3               </td><td>76.4               </td><td>76.6               </td></tr>\n",
       "</tbody>\n",
       "</table>\n"
      ],
      "text/latex": [
       "\\begin{tabular}{r|llllllllllllllllllllllllllllllllllllllllllllllllllllllllll}\n",
       " country & X1960 & X1961 & X1962 & X1963 & X1964 & X1965 & X1966 & X1967 & X1968 & ... & X2007 & X2008 & X2009 & X2010 & X2011 & X2012 & X2013 & X2014 & X2015 & X2016\\\\\n",
       "\\hline\n",
       "\t Afghanistan         & 32.3                & 32.7                & 33.2                & 33.6                & 34.1                & 34.5                & 34.9                & 35.4                & 35.8                & ...                 & 59.7                & 60.2                & 60.8                & 61.2                & 61.7                & 62.1                & 62.5                & 62.9                & 63.3                & 63.7               \\\\\n",
       "\t Albania             & 62.3                & 63.3                & 64.2                & 64.9                & 65.5                & 65.8                & 66.1                & 66.3                & 66.5                & ...                 & 75.7                & 75.9                & 76.3                & 76.7                & 77.0                & 77.4                & 77.7                & 78.0                & 78.2                & 78.3               \\\\\n",
       "\t Algeria             & 46.1                & 46.6                & 47.1                & 47.5                & 48.0                & 48.4                & 48.8                & 49.2                & 49.6                & ...                 & 73.6                & 74.0                & 74.4                & 74.7                & 74.9                & 75.2                & 75.4                & 75.6                & 75.9                & 76.1               \\\\\n",
       "\t Angola              & 33.3                & 33.6                & 33.9                & 34.3                & 34.6                & 35.0                & 35.4                & 35.8                & 36.2                & ...                 & 55.1                & 56.2                & 57.2                & 58.2                & 59.0                & 59.8                & 60.4                & 60.9                & 61.2                & 61.5               \\\\\n",
       "\t Antigua and Barbuda & 62.1                & 62.6                & 63.0                & 63.4                & 63.8                & 64.1                & 64.5                & 64.9                & 65.2                & ...                 & 74.9                & 75.1                & 75.2                & 75.4                & 75.6                & 75.7                & 75.9                & 76.0                & 76.2                & 76.4               \\\\\n",
       "\t Argentina           & 65.0                & 65.1                & 65.2                & 65.3                & 65.4                & 65.5                & 65.6                & 65.8                & 66.0                & ...                 & 75.1                & 75.3                & 75.4                & 75.6                & 75.8                & 75.9                & 76.1                & 76.3                & 76.4                & 76.6               \\\\\n",
       "\\end{tabular}\n"
      ],
      "text/markdown": [
       "\n",
       "country | X1960 | X1961 | X1962 | X1963 | X1964 | X1965 | X1966 | X1967 | X1968 | ... | X2007 | X2008 | X2009 | X2010 | X2011 | X2012 | X2013 | X2014 | X2015 | X2016 | \n",
       "|---|---|---|---|---|---|\n",
       "| Afghanistan         | 32.3                | 32.7                | 33.2                | 33.6                | 34.1                | 34.5                | 34.9                | 35.4                | 35.8                | ...                 | 59.7                | 60.2                | 60.8                | 61.2                | 61.7                | 62.1                | 62.5                | 62.9                | 63.3                | 63.7                | \n",
       "| Albania             | 62.3                | 63.3                | 64.2                | 64.9                | 65.5                | 65.8                | 66.1                | 66.3                | 66.5                | ...                 | 75.7                | 75.9                | 76.3                | 76.7                | 77.0                | 77.4                | 77.7                | 78.0                | 78.2                | 78.3                | \n",
       "| Algeria             | 46.1                | 46.6                | 47.1                | 47.5                | 48.0                | 48.4                | 48.8                | 49.2                | 49.6                | ...                 | 73.6                | 74.0                | 74.4                | 74.7                | 74.9                | 75.2                | 75.4                | 75.6                | 75.9                | 76.1                | \n",
       "| Angola              | 33.3                | 33.6                | 33.9                | 34.3                | 34.6                | 35.0                | 35.4                | 35.8                | 36.2                | ...                 | 55.1                | 56.2                | 57.2                | 58.2                | 59.0                | 59.8                | 60.4                | 60.9                | 61.2                | 61.5                | \n",
       "| Antigua and Barbuda | 62.1                | 62.6                | 63.0                | 63.4                | 63.8                | 64.1                | 64.5                | 64.9                | 65.2                | ...                 | 74.9                | 75.1                | 75.2                | 75.4                | 75.6                | 75.7                | 75.9                | 76.0                | 76.2                | 76.4                | \n",
       "| Argentina           | 65.0                | 65.1                | 65.2                | 65.3                | 65.4                | 65.5                | 65.6                | 65.8                | 66.0                | ...                 | 75.1                | 75.3                | 75.4                | 75.6                | 75.8                | 75.9                | 76.1                | 76.3                | 76.4                | 76.6                | \n",
       "\n",
       "\n"
      ],
      "text/plain": [
       "  country             X1960 X1961 X1962 X1963 X1964 X1965 X1966 X1967 X1968 ...\n",
       "1 Afghanistan         32.3  32.7  33.2  33.6  34.1  34.5  34.9  35.4  35.8  ...\n",
       "2 Albania             62.3  63.3  64.2  64.9  65.5  65.8  66.1  66.3  66.5  ...\n",
       "3 Algeria             46.1  46.6  47.1  47.5  48.0  48.4  48.8  49.2  49.6  ...\n",
       "4 Angola              33.3  33.6  33.9  34.3  34.6  35.0  35.4  35.8  36.2  ...\n",
       "5 Antigua and Barbuda 62.1  62.6  63.0  63.4  63.8  64.1  64.5  64.9  65.2  ...\n",
       "6 Argentina           65.0  65.1  65.2  65.3  65.4  65.5  65.6  65.8  66.0  ...\n",
       "  X2007 X2008 X2009 X2010 X2011 X2012 X2013 X2014 X2015 X2016\n",
       "1 59.7  60.2  60.8  61.2  61.7  62.1  62.5  62.9  63.3  63.7 \n",
       "2 75.7  75.9  76.3  76.7  77.0  77.4  77.7  78.0  78.2  78.3 \n",
       "3 73.6  74.0  74.4  74.7  74.9  75.2  75.4  75.6  75.9  76.1 \n",
       "4 55.1  56.2  57.2  58.2  59.0  59.8  60.4  60.9  61.2  61.5 \n",
       "5 74.9  75.1  75.2  75.4  75.6  75.7  75.9  76.0  76.2  76.4 \n",
       "6 75.1  75.3  75.4  75.6  75.8  75.9  76.1  76.3  76.4  76.6 "
      ]
     },
     "metadata": {},
     "output_type": "display_data"
    }
   ],
   "source": [
    "# explore first rows\n",
    "head(df)"
   ]
  },
  {
   "cell_type": "code",
   "execution_count": 25,
   "metadata": {},
   "outputs": [
    {
     "data": {
      "text/html": [
       "393"
      ],
      "text/latex": [
       "393"
      ],
      "text/markdown": [
       "393"
      ],
      "text/plain": [
       "[1] 393"
      ]
     },
     "metadata": {},
     "output_type": "display_data"
    }
   ],
   "source": [
    "# identify count of NAs in data set\n",
    "sum(is.na(df))"
   ]
  },
  {
   "cell_type": "code",
   "execution_count": 26,
   "metadata": {},
   "outputs": [
    {
     "data": {
      "text/html": [
       "<ol class=list-inline>\n",
       "\t<li>180</li>\n",
       "\t<li>58</li>\n",
       "</ol>\n"
      ],
      "text/latex": [
       "\\begin{enumerate*}\n",
       "\\item 180\n",
       "\\item 58\n",
       "\\end{enumerate*}\n"
      ],
      "text/markdown": [
       "1. 180\n",
       "2. 58\n",
       "\n",
       "\n"
      ],
      "text/plain": [
       "[1] 180  58"
      ]
     },
     "metadata": {},
     "output_type": "display_data"
    }
   ],
   "source": [
    "# omit na values\n",
    "df <-df %>%\n",
    "na.omit()\t\t\n",
    "dim(df)"
   ]
  },
  {
   "cell_type": "code",
   "execution_count": 27,
   "metadata": {},
   "outputs": [
    {
     "data": {
      "text/html": [
       "0"
      ],
      "text/latex": [
       "0"
      ],
      "text/markdown": [
       "0"
      ],
      "text/plain": [
       "[1] 0"
      ]
     },
     "metadata": {},
     "output_type": "display_data"
    }
   ],
   "source": [
    "# identify count of NAs in data set\n",
    "sum(is.na(df))"
   ]
  },
  {
   "cell_type": "code",
   "execution_count": 37,
   "metadata": {},
   "outputs": [
    {
     "data": {
      "text/plain": [
       "   Min. 1st Qu.  Median    Mean 3rd Qu.    Max. \n",
       "  28.20   43.08   52.85   53.37   63.80   73.50 "
      ]
     },
     "metadata": {},
     "output_type": "display_data"
    }
   ],
   "source": [
    "summary(df$X1960)"
   ]
  },
  {
   "cell_type": "code",
   "execution_count": 33,
   "metadata": {},
   "outputs": [
    {
     "data": {
      "text/plain": [
       "   Min. 1st Qu.  Median    Mean 3rd Qu.    Max. \n",
       "  51.80   66.25   73.25   71.50   77.03   84.00 "
      ]
     },
     "metadata": {},
     "output_type": "display_data"
    }
   ],
   "source": [
    "summary(df$X2016)"
   ]
  },
  {
   "cell_type": "code",
   "execution_count": 43,
   "metadata": {},
   "outputs": [
    {
     "name": "stderr",
     "output_type": "stream",
     "text": [
      "Warning message:\n",
      "\"Removed 2 rows containing missing values (geom_bar).\"Warning message:\n",
      "\"Removed 2 rows containing missing values (geom_bar).\""
     ]
    },
    {
     "data": {
      "image/png": "[encoded data removed]",
      "text/plain": [
       "plot without title"
      ]
     },
     "metadata": {},
     "output_type": "display_data"
    }
   ],
   "source": [
    "library(gridExtra)\n",
    "# Histograms for both years:\n",
    "p1 <- ggplot(aes(x = X1960), data = df) +\n",
    "    theme_dark() +\n",
    "    geom_histogram(binwidth = 1, color = 'black', fill = 'steelblue') +\n",
    "    ggtitle(\"Life Expectancy Distribution in 1950\") + \n",
    "    scale_x_continuous(limits = c(20, 90))\n",
    "p2 <- ggplot(aes(x = X2016), data = df) +\n",
    "    theme_dark() +\n",
    "    geom_histogram(binwidth = 1, color = 'black', fill = 'steelblue') +\n",
    "    ggtitle(\"Life Expectancy Distribution in 2016\") +\n",
    "    scale_x_continuous(limits = c(20, 90))\n",
    "grid.arrange(p1, p2, ncol = 1)"
   ]
  },
  {
   "cell_type": "code",
   "execution_count": 46,
   "metadata": {},
   "outputs": [],
   "source": [
    "library(tidyr)\n",
    "# Convert data to long format:\n",
    "df_long <- gather(df, key = year, value = life_exp, -country, convert = TRUE)\n",
    "df_long$year <- as.factor(sub('X', '', df_long$year))\n",
    "\n",
    "# Subset 15-year periods:\n",
    "fifteen_y <- as.character(seq(1956, 2016, 15))\n",
    "df_fifteen <- filter(df_long, year %in% fifteen_y)"
   ]
  },
  {
   "cell_type": "code",
   "execution_count": 47,
   "metadata": {},
   "outputs": [
    {
     "data": {},
     "metadata": {},
     "output_type": "display_data"
    },
    {
     "data": {
      "image/png": "[encoded data removed]",
      "text/plain": [
       "plot without title"
      ]
     },
     "metadata": {},
     "output_type": "display_data"
    }
   ],
   "source": [
    "ggplot(aes(x = life_exp), data = df_fifteen) +\n",
    "    theme_dark() +\n",
    "    geom_freqpoly(aes(color = year), binwidth = 5, size = 1) +\n",
    "    scale_color_brewer(type = 'seq', palette = 'Blues')"
   ]
  },
  {
   "cell_type": "raw",
   "metadata": {},
   "source": [
    "Plots show us that life expectancy at bitrh doubled from 49.3 to 72.6 years.\n",
    "\n",
    "The histograms shifted to the right between 1960 and 2016. The data from 1960 is more spread out and is somewhat bi-modal, hinting at well-separated groups of countries. The 2016 data is closer to unimodal, less spread out and negatively skewed (the left tail is longer than the right tail). In other words, the majority of countries are above the average – an observation confirmed by the fact that median > mean."
   ]
  },
  {
   "cell_type": "code",
   "execution_count": 48,
   "metadata": {},
   "outputs": [
    {
     "data": {},
     "metadata": {},
     "output_type": "display_data"
    },
    {
     "data": {
      "image/png": "[encoded data removed]",
      "text/plain": [
       "plot without title"
      ]
     },
     "metadata": {},
     "output_type": "display_data"
    }
   ],
   "source": [
    "five_y <- as.character(seq(1961, 2016, 5))\n",
    "df_five <- filter(df_long, year %in% five_y)\n",
    "ggplot(aes(x = year, y = life_exp), data = df_five) +\n",
    "    theme_dark() +\n",
    "    geom_boxplot(fill = \"lightsteelblue\") + \n",
    "    ggtitle(\"Life Expectancy Worldwide, 1950-2016\")"
   ]
  },
  {
   "cell_type": "code",
   "execution_count": null,
   "metadata": {},
   "outputs": [],
   "source": []
  }
 ],
 "metadata": {
  "kernelspec": {
   "display_name": "R",
   "language": "R",
   "name": "ir"
  },
  "language_info": {
   "codemirror_mode": "r",
   "file_extension": ".r",
   "mimetype": "text/x-r-source",
   "name": "R",
   "pygments_lexer": "r",
   "version": "3.5.1"
  }
 },
 "nbformat": 4,
 "nbformat_minor": 2
}
